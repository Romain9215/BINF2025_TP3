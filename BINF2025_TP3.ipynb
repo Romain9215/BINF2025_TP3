{
  "nbformat": 4,
  "nbformat_minor": 0,
  "metadata": {
    "colab": {
      "provenance": []
    },
    "kernelspec": {
      "name": "python3",
      "display_name": "Python 3"
    },
    "language_info": {
      "name": "python"
    }
  },
  "cells": [
    {
      "cell_type": "markdown",
      "source": [
        "# BINF TP3 - Algorithmes d'alignement par paire"
      ],
      "metadata": {
        "id": "V09wQ1WIOmgn"
      }
    },
    {
      "cell_type": "markdown",
      "source": [
        "Dans ce TP nous allons manipuler les algorithmes d'alignement par paire."
      ],
      "metadata": {
        "id": "er6CtAyOxC6F"
      }
    },
    {
      "cell_type": "markdown",
      "source": [
        "# Exercice 0 - Echauffement"
      ],
      "metadata": {
        "id": "BqEa3BJ1xICM"
      }
    },
    {
      "cell_type": "markdown",
      "source": [
        "Q1. Donnez le score de la superposition :\n",
        "\n",
        "|       |       |\n",
        "| :---: | :---: |\n",
        "x       | ATGTCATGA---TAC |\n",
        "y       | AT--CTAAATGTTAC |\n",
        "\n",
        "\n",
        "étant donne le schéma d'évaluation :\n",
        "\n",
        "|       | A     | T     | G     | C     |\n",
        "| :---: | :---: | :---: | :---: | :---: |\n",
        "| **A** | 1     | -1    | -1    | -1    |\n",
        "| **T** | -1    | 1     | -1    | -1    |\n",
        "| **G** | -1    | -1    | 1     | -1    |\n",
        "| **C** | -1    | -1    | -1    | 1     |\n",
        "\n",
        "et\n",
        "\n",
        "$\\gamma(g) = 0.5 |g| + 0.5$"
      ],
      "metadata": {
        "id": "qqiiq5bcxYvM"
      }
    },
    {
      "cell_type": "markdown",
      "source": [
        "```markdown\n",
        "1 + 1 + 1 - 1 - 1 - 1 + 1 + 1 + 1 + 1 = 4\n",
        "y(2) = 0.5 * 2 + 0.5 = 1.5\n",
        "y(3) = 0.5 * 3 + 0.5 = 2\n",
        "\n",
        "4 - (1,5 + 2) = 0,5\n",
        "\n",
        "```"
      ],
      "metadata": {
        "id": "kCJGGGYQ2GNi"
      }
    },
    {
      "cell_type": "markdown",
      "source": [
        "Q2. Alignez les séquences suivantes avec l'algorithme de Levenshtein :  x = ATG et y = ACTG."
      ],
      "metadata": {
        "id": "XyhXAhK-2NKJ"
      }
    },
    {
      "cell_type": "markdown",
      "source": [
        "\n",
        "|       |   0     | A       | C       | T       | G     |  \n",
        "| :---: |  :---:  |  :---:  | :---:   | :---:   | :---: |\n",
        "| **0** |    0    |   1     |    2    |    3    |    4  |\n",
        "| **A** |    1    |   0     |    1    |    2    |    3  |\n",
        "| **T** |    2    |   1     |    1    |    1    |    2  |\n",
        "| **G** |    3    |   2     |    2    |    2    |    1  |\n",
        "\n",
        "|       |   0     | A       | C       | T       | G     |\n",
        "| :---: |  :---:  |  :---:  | :---:   | :---:   | :---: |\n",
        "| **0** |    0    |   _     |    _    |    _    |    _  |\n",
        "| **A** |    l    |   \\     |    _    |    _    |    _  |\n",
        "| **T** |    l    |   l     |    \\    |    \\    |    _  |\n",
        "| **G** |    l    |   l     |    \\    |    \\    |    \\  |\n",
        "\n",
        "```markdown\n",
        "x = A_TG\n",
        "y = ACTG\n",
        "```"
      ],
      "metadata": {
        "id": "b9iovhyZ2bXw"
      }
    },
    {
      "cell_type": "markdown",
      "source": [
        "Q3.\tAlignez les séquences suivantes avec l'algorithme de Needleman-Wunsch global x = TAT et y = ATGAC en considérant le schéma d'évaluation suivant\n",
        "\n",
        "|       | A       | T       | G       | C     |\n",
        "| :---: | :---:   | :---:   | :---:   | :---: |\n",
        "| **A** | 1       | -0.5    | -0.5    | -0.5  |\n",
        "| **T** | -0.5    | 1       | -0.5    | -0.5  |\n",
        "| **G** | -0.5    | -0.5    | 1       | -0.5  |\n",
        "| **C** | -0.5    | -0.5    | -0.5    | 1     |\n",
        "\n",
        "et\n",
        "\n",
        "$\\gamma(g) = 0.5 |g|$\n"
      ],
      "metadata": {
        "id": "OV_YaQHr2elB"
      }
    },
    {
      "cell_type": "markdown",
      "source": [
        "|       |0    | A       | T       | G       |A      | C     |\n",
        "| :---: |:---:| :---:   | :---:   | :---:   | :---: | :---: |\n",
        "| **0** |0    | -0.5    | -1      | -1.5    |  -2   | -2.5  |\n",
        "| **T** |-0.5 | -0.5    |  0.5    |   0     | -0.5  | -1    |\n",
        "| **A** |-1   |  0.5    |   0     |   0     |  1    |  0.5  |\n",
        "| **T** |-1.5 |   0     |  -1.5   |   1     |  0.5  |  0.5  |\n",
        "\n",
        "|       |0    | A       | T       | G       |A      | C     |\n",
        "| :---: |:---:| :---:   | :---:   | :---:   | :---: | :---: |\n",
        "| **0** |0    | _       | _       | _       |  _    | _     |\n",
        "| **T** |l    | \\       |  \\      |   _     | _     | _     |\n",
        "| **A** |l    |  \\      |   _     |   \\     |  \\    |  _    |\n",
        "| **T** |l    |   l     |  \\      |   _     |  _    |  \\    |\n",
        "\n",
        "```markdown\n",
        "x = _T_AT\n",
        "y = ATGAC\n",
        "```"
      ],
      "metadata": {
        "id": "g_MrecVs3Nrw"
      }
    },
    {
      "cell_type": "markdown",
      "source": [
        "Q4. Alignez les séquences suivantes avec l'algorithme de Smith-Waterman x = TTGG y = ATGAC en utilisant le schéma d'évaluation de la question précédente.\n"
      ],
      "metadata": {
        "id": "y1YF-G6E3Qoo"
      }
    },
    {
      "cell_type": "markdown",
      "source": [
        "```markdown\n",
        "Votre réponse ici\n",
        "```"
      ],
      "metadata": {
        "id": "LLMECocb3pgI"
      }
    },
    {
      "cell_type": "markdown",
      "source": [
        "# Exercice 1 : Algorithme de Levenshtein - version récursive"
      ],
      "metadata": {
        "id": "46gw0avh3wGw"
      }
    },
    {
      "cell_type": "markdown",
      "source": [
        "Q1. Ecrivez une fonction\n",
        "\n",
        "levenshtein(x: str, y: str) -> int\n",
        "\n",
        "qui retourne la distance de Levenshtein entre les séquences x et y en utilisant la  version récursive de l'algorithme."
      ],
      "metadata": {
        "id": "ZKc09Kyg4a6v"
      }
    },
    {
      "cell_type": "code",
      "source": [
        "def levenshtein(x: str, y: str) -> int:\n",
        "    if not x:\n",
        "        return len(y)\n",
        "    if not y:\n",
        "        return len(x)\n",
        "\n",
        "    cost = 0 if x[-1] == y[-1] else 1\n",
        "\n",
        "    return min(\n",
        "        levenshtein(x[:-1], y) + 1,\n",
        "        levenshtein(x, y[:-1]) + 1,\n",
        "        levenshtein(x[:-1], y[:-1]) + cost\n",
        "    )\n",
        "\n",
        "print(levenshtein(\"CCGT\", \"CGTCA\"))\n"
      ],
      "metadata": {
        "id": "FJR69IEQ4aHv",
        "colab": {
          "base_uri": "https://localhost:8080/"
        },
        "outputId": "a7b912d1-5035-4f97-ed0f-a06975e619df"
      },
      "execution_count": null,
      "outputs": [
        {
          "output_type": "stream",
          "name": "stdout",
          "text": [
            "3\n"
          ]
        }
      ]
    },
    {
      "cell_type": "markdown",
      "source": [
        "Q2. Vous pouvez tester votre code sur les exemples suivants:\n",
        "\n",
        "\n",
        "*   $L('CCAG', 'CA') = 2$\n",
        "*   $L('CCGT', 'CGTCA') = 3$\n",
        "*   $L(AY678264^*, OQ870305^*) = 310$\n",
        "\n",
        "$^*$ ids genbank de deux sequences."
      ],
      "metadata": {
        "id": "arFVwA6E5NWn"
      }
    },
    {
      "cell_type": "markdown",
      "source": [
        "# Exercice 2 : Algorithme de Smith-Waterman - version itérative"
      ],
      "metadata": {
        "id": "erCpfG7O7BV-"
      }
    },
    {
      "cell_type": "markdown",
      "source": [
        "Q1. Ecrivez la fonction\n",
        "\n",
        "sw_fwd(x: str, y: str, cmap: dict, sigma: array, (go, ge): list) -> (array, array)\n",
        "\n",
        "qui construit les matrices $S$ et $B$ en utilisant l'algorithme de Smith-Waterman pour aligner les séquences x et y suivant le schéma d'évaluation donné par la matrice de substitution $\\Sigma$ et la fonction d'évaluation des trous $\\gamma(n)= g_o + g_e \\times n$. Le dictionnaire cmap donne la position des différents nucléotides dans la matrice $\\Sigma$. La fonction retourne la paire de matrices de score $S$ et de retour $B$."
      ],
      "metadata": {
        "id": "rv2Y78y37IOd"
      }
    },
    {
      "cell_type": "code",
      "source": [
        "import numpy as np\n",
        "\n",
        "def sw_fwd(x: str, y: str, cmap: dict, sigma: np.array, gap_params: tuple) -> tuple:\n",
        "    DIAG, UP, LEFT = 1, 2, 3\n",
        "    m, n = len(x), len(y)\n",
        "    go, ge = gap_params\n",
        "\n",
        "    S = np.zeros((m + 1, n + 1))\n",
        "    B = np.zeros((m + 1, n + 1), dtype=int)\n",
        "\n",
        "    for i in range(1, m + 1):\n",
        "        for j in range(1, n + 1):\n",
        "            match_score = S[i-1, j-1] + sigma[cmap[x[i-1]], cmap[y[j-1]]]\n",
        "\n",
        "            max_del, best_k_del = -np.inf, 0\n",
        "            for k in range(1, i+1):\n",
        "                current = S[i-k, j] - (go + ge*(k-1))\n",
        "                if current > max_del:\n",
        "                    max_del = current\n",
        "                    best_k_del = k\n",
        "\n",
        "            max_ins, best_k_ins = -np.inf, 0\n",
        "            for k in range(1, j+1):\n",
        "                current = S[i, j-k] - (go + ge*(k-1))\n",
        "                if current > max_ins:\n",
        "                    max_ins = current\n",
        "                    best_k_ins = k\n",
        "\n",
        "            options = [(0, 0), (match_score, DIAG), (max_del, UP), (max_ins, LEFT)]\n",
        "            S[i,j], B[i,j] = max(options, key=lambda x: x[0])\n",
        "\n",
        "    return S, B\n",
        "\n",
        "\n",
        "dna_cmap = {'A': 0, 'C': 1, 'G': 2, 'T': 3}\n",
        "sigma_matrix = np.array([[2, -1, -1, -1],\n",
        "                          [-1, 2, -1, -1],\n",
        "                          [-1, -1, 2, -1],\n",
        "                          [-1, -1, -1, 2]])\n",
        "\n",
        "go, ge = -2, -1\n",
        "x_seq = \"AGT\"\n",
        "y_seq = \"GTT\"\n",
        "\n",
        "S, B = sw_fwd(x_seq, y_seq, dna_cmap, sigma_matrix, (go, ge))\n",
        "print(S)\n",
        "print(B)\n"
      ],
      "metadata": {
        "id": "njn3JB0b-WHj",
        "colab": {
          "base_uri": "https://localhost:8080/"
        },
        "outputId": "e8c2609b-8e44-43ff-de17-8bd19dc20a5f"
      },
      "execution_count": 6,
      "outputs": [
        {
          "output_type": "stream",
          "name": "stdout",
          "text": [
            "[[ 0.  0.  0.  0.]\n",
            " [ 0.  2.  4.  6.]\n",
            " [ 0.  4.  6.  8.]\n",
            " [ 0.  6.  8. 10.]]\n",
            "[[0 0 0 0]\n",
            " [0 2 3 3]\n",
            " [0 2 2 2]\n",
            " [0 2 2 2]]\n"
          ]
        }
      ]
    },
    {
      "cell_type": "markdown",
      "source": [
        "Q2. Ecrivez la fonction\n",
        "\n",
        "sw_bwd(x: str, y: str, S: array, B: array) -> (str, str, float)\n",
        "\n",
        "qui effectue l'etape de retour de l'algorithme de Smith-Waterman etant donné les séquences $x$ et $y$ et les matrices de score $S$ et de retour $B$. La fonction retourne un tuple contenant les alignements des séquences x et y et le score de l'alignement."
      ],
      "metadata": {
        "id": "55n8mt9U-Wai"
      }
    },
    {
      "cell_type": "code",
      "source": [
        "import numpy as np\n",
        "\n",
        "def sw_bwd(x: str, y: str, S: np.ndarray, B: np.ndarray) -> (str, str, float):\n",
        "    # Initialiser les alignements et le score\n",
        "    align_x = []\n",
        "    align_y = []\n",
        "\n",
        "    # Trouver la position du score maximum dans la matrice S (c'est ici que l'alignement commence)\n",
        "    i, j = np.unravel_index(np.argmax(S), S.shape)\n",
        "    score = S[i, j]\n",
        "\n",
        "    # Effectuer le traceback\n",
        "    while S[i, j] > 0:\n",
        "        if B[i, j] == 1:  # Diagonale\n",
        "            align_x.append(x[i-1])\n",
        "            align_y.append(y[j-1])\n",
        "            i -= 1\n",
        "            j -= 1\n",
        "        elif B[i, j] == 2:  # Haut\n",
        "            align_x.append(x[i-1])\n",
        "            align_y.append('-')\n",
        "            i -= 1\n",
        "        elif B[i, j] == 3:  # Gauche\n",
        "            align_x.append('-')\n",
        "            align_y.append(y[j-1])\n",
        "            j -= 1\n",
        "\n",
        "    # Inverser les alignements car on a commencé à partir de la fin\n",
        "    align_x.reverse()\n",
        "    align_y.reverse()\n",
        "\n",
        "    # Convertir les listes en chaînes\n",
        "    align_x_str = ''.join(align_x)\n",
        "    align_y_str = ''.join(align_y)\n",
        "\n",
        "    return align_x_str, align_y_str, score\n"
      ],
      "metadata": {
        "id": "ij9JDpBm_UZ7"
      },
      "execution_count": 7,
      "outputs": []
    },
    {
      "cell_type": "markdown",
      "source": [
        "Q3. Vous pouvez tester votre code en utilisant le schéma d'évaluation suivant :"
      ],
      "metadata": {
        "id": "kwmxg2dxAiwS"
      }
    },
    {
      "cell_type": "code",
      "source": [
        "cmap = {\"A\": 0, \"T\": 1, \"G\": 2, \"C\": 3}\n",
        "m = np.array([[1, -0.5, -0.5, -0.5],\n",
        "              [-0.5, 1, -0.5, -0.5],\n",
        "              [-0.5, -0.5, 1, -0.5],\n",
        "              [-0.5, -0.5, -0.5, 1]])\n",
        "go = 0\n",
        "ge = 0.5"
      ],
      "metadata": {
        "id": "JUtYRFTBAwwZ"
      },
      "execution_count": 2,
      "outputs": []
    },
    {
      "cell_type": "markdown",
      "source": [
        "*   $SW('TCGC', 'CTTAG')$ retourne un score de $1.5$ à la position $(3,5)$ et l'alignement"
      ],
      "metadata": {
        "id": "eMGh4K5aIFxE"
      }
    },
    {
      "cell_type": "code",
      "source": [
        "from IPython.display import HTML\n",
        "HTML(\"<table align='left' style='font-family:Courier New'><tr><th>x:</th><th>TCG</th></tr><tr><th>y:</th><th>TAG</th></tr></table>\")"
      ],
      "metadata": {
        "colab": {
          "base_uri": "https://localhost:8080/",
          "height": 62
        },
        "id": "joHNwJ9AIf6F",
        "outputId": "d5d9b15e-5e70-4d64-958a-3587ddcd8510"
      },
      "execution_count": 5,
      "outputs": [
        {
          "output_type": "execute_result",
          "data": {
            "text/plain": [
              "<IPython.core.display.HTML object>"
            ],
            "text/html": [
              "<table align='left' style='font-family:Courier New'><tr><th>x:</th><th>TCG</th></tr><tr><th>y:</th><th>TAG</th></tr></table>"
            ]
          },
          "metadata": {},
          "execution_count": 5
        }
      ]
    },
    {
      "cell_type": "markdown",
      "source": [
        "*   $SW(AY678264^*, OQ870305^*)$ retourne un score de $342.1$ à la position $(708,717)$ et l'alignement"
      ],
      "metadata": {
        "id": "JJlU5yvZI43D"
      }
    },
    {
      "cell_type": "code",
      "source": [
        "from IPython.display import HTML\n",
        "HTML(\"<table width='300px' align='left' style='font-family:Courier New'><tr><th>x:</th><th nowrap='nowrap'>ATGGTGAGCAAGGGCGAGGAGGATAACATGGCCATCATCAAGGAGTTCATGCGCTTCAAGGTGC-A-CATGGAGGGCTCCGTGAACGGCCACGAGTTCGAGATCGAG---GGCGAGGGCGAGGGC--CGCC-CCTACGAGGGCACCCAGACCGC-CAAGCTGAAGGTG-ACCA-AGG---G-TGGCC---CCCT-GCCCTTCGCCT-GGGA-CATCCTGTCC--C--C-T-CAGTTCATGT-A-CGGCT-CCAAGGCCTACGTG-A--AGCAC--C--C--C--G-CCGACATCCCCG-A--CTAC-T--TGAAGCTG-TCCTTC--C--C-----CGA-GG--GCTTCAAGTGGGAGCG-CGTGATGAACTTCGAGGACGGCGGCGTGGTG-ACCG--T-GA-C-CCAGGAC-TC--CTCCCTGCAGGACGGCGAGTTCATCTACAAGGTG---AAGCTGCGCGGCACCAACTTCCCCT-CCGACGGCCCCGTA-ATGCA-GAAGAAGACCATGGGCTG--GGA-GGCCTCCTCCGAGCGGATGTACCCCGAGGA-CGGCGCC-CTGAAGGGCGAGATCAAGCAGA-GGCTGAAGC-TGAAGGACGGCGGCCACTACGACGCTGAGGTCAAGACCACCTACA-AGGCCAAGAAG-CCCGTGCAGCTGCCCGGC-GCCTACAACGTCAACATCAAGT-TG----GA-CATCACCTCCCACAACGAGGA-CTAC-A-C-CA---T-C-G-TGGAACAGTACG-AACGCGCCGAGGGCCGCCACTCCAC-CGGCGGCATGGACGAGCTGTACAAG</th></tr><tr><th>y:</th><th>ATGGTGAGCAAGGGCGAGGA-G----C-T-G--TTCA-C-CGG-GGTGGTGCCCATCCTGGT-CGAGC-TGGACGGCGACGTAAACGGCCACAAGTTC-AG--CGTGTCCGGCGAGGGCGAGGGCGATGCCACCTAC---GGCAAGCTGACC-CTGAAG-TTCATTTGCACCACCGGCAAGCTGCCCGTGCCCTGGCCC-AC-CCTCGTGACCACCCTGACCTACGGCGTGCAGTGC-T-TCAGCCGCTACCCCGACC-ACATGAAGCAGCACGACTTCTTCAAGTCCGCCATGCCCGAAGGCTACGTCCAGGAGC-GCACCATCTTCTTCAAGGACGACGGCAACTACAAGA-CCCGCGCCGAGGTGAAGTTCGAGGGCGACACCCTGGTGAACCGCATCGAGCTGAAGGGCATCGACTTCAAGGAGGACGGC-A--ACATC--C-TGGGGCACAAGCTG-G-AGTA-CAACTACAACAGCC-ACAACGTC-TATAT-CATG--GCCGA-CAA--GCAGAAGAACGG-CA--T-C-A-AGG-TGAACTTC-AAGATC--CGCCAC--AA---C---ATCGAG--GACGGC---AGCGTGCAGCTCGCCGACCACTACCA-GC--A-G--AACACC-CC--CATCGGCGACG--GCCCCGTGCTGCTGCCCGACAACC-ACTACCTGAGCACCCAGTCCGCCCTGAGCAA-A-GACCC-CAACGAGAAGC-GCGATCACATGGTCCTGCTGG---AGTTCGTGAC-CGCC----GCCGGGA-T-CACTC-TCGGCATGGACGAGCTGTACAAG</th></tr></table>\")"
      ],
      "metadata": {
        "colab": {
          "base_uri": "https://localhost:8080/",
          "height": 82
        },
        "id": "HUELvWKMFtIO",
        "outputId": "eab87ab3-9db2-46b3-8b8f-7c17f3466ec7"
      },
      "execution_count": 4,
      "outputs": [
        {
          "output_type": "execute_result",
          "data": {
            "text/plain": [
              "<IPython.core.display.HTML object>"
            ],
            "text/html": [
              "<table width='300px' align='left' style='font-family:Courier New'><tr><th>x:</th><th nowrap='nowrap'>ATGGTGAGCAAGGGCGAGGAGGATAACATGGCCATCATCAAGGAGTTCATGCGCTTCAAGGTGC-A-CATGGAGGGCTCCGTGAACGGCCACGAGTTCGAGATCGAG---GGCGAGGGCGAGGGC--CGCC-CCTACGAGGGCACCCAGACCGC-CAAGCTGAAGGTG-ACCA-AGG---G-TGGCC---CCCT-GCCCTTCGCCT-GGGA-CATCCTGTCC--C--C-T-CAGTTCATGT-A-CGGCT-CCAAGGCCTACGTG-A--AGCAC--C--C--C--G-CCGACATCCCCG-A--CTAC-T--TGAAGCTG-TCCTTC--C--C-----CGA-GG--GCTTCAAGTGGGAGCG-CGTGATGAACTTCGAGGACGGCGGCGTGGTG-ACCG--T-GA-C-CCAGGAC-TC--CTCCCTGCAGGACGGCGAGTTCATCTACAAGGTG---AAGCTGCGCGGCACCAACTTCCCCT-CCGACGGCCCCGTA-ATGCA-GAAGAAGACCATGGGCTG--GGA-GGCCTCCTCCGAGCGGATGTACCCCGAGGA-CGGCGCC-CTGAAGGGCGAGATCAAGCAGA-GGCTGAAGC-TGAAGGACGGCGGCCACTACGACGCTGAGGTCAAGACCACCTACA-AGGCCAAGAAG-CCCGTGCAGCTGCCCGGC-GCCTACAACGTCAACATCAAGT-TG----GA-CATCACCTCCCACAACGAGGA-CTAC-A-C-CA---T-C-G-TGGAACAGTACG-AACGCGCCGAGGGCCGCCACTCCAC-CGGCGGCATGGACGAGCTGTACAAG</th></tr><tr><th>y:</th><th>ATGGTGAGCAAGGGCGAGGA-G----C-T-G--TTCA-C-CGG-GGTGGTGCCCATCCTGGT-CGAGC-TGGACGGCGACGTAAACGGCCACAAGTTC-AG--CGTGTCCGGCGAGGGCGAGGGCGATGCCACCTAC---GGCAAGCTGACC-CTGAAG-TTCATTTGCACCACCGGCAAGCTGCCCGTGCCCTGGCCC-AC-CCTCGTGACCACCCTGACCTACGGCGTGCAGTGC-T-TCAGCCGCTACCCCGACC-ACATGAAGCAGCACGACTTCTTCAAGTCCGCCATGCCCGAAGGCTACGTCCAGGAGC-GCACCATCTTCTTCAAGGACGACGGCAACTACAAGA-CCCGCGCCGAGGTGAAGTTCGAGGGCGACACCCTGGTGAACCGCATCGAGCTGAAGGGCATCGACTTCAAGGAGGACGGC-A--ACATC--C-TGGGGCACAAGCTG-G-AGTA-CAACTACAACAGCC-ACAACGTC-TATAT-CATG--GCCGA-CAA--GCAGAAGAACGG-CA--T-C-A-AGG-TGAACTTC-AAGATC--CGCCAC--AA---C---ATCGAG--GACGGC---AGCGTGCAGCTCGCCGACCACTACCA-GC--A-G--AACACC-CC--CATCGGCGACG--GCCCCGTGCTGCTGCCCGACAACC-ACTACCTGAGCACCCAGTCCGCCCTGAGCAA-A-GACCC-CAACGAGAAGC-GCGATCACATGGTCCTGCTGG---AGTTCGTGAC-CGCC----GCCGGGA-T-CACTC-TCGGCATGGACGAGCTGTACAAG</th></tr></table>"
            ]
          },
          "metadata": {},
          "execution_count": 4
        }
      ]
    },
    {
      "cell_type": "markdown",
      "source": [
        "# Exercice 3 : Distribution des scores d’alignement pour des séquences aléatoires\n",
        "\n",
        "Pour tester si un alignement reflète une réelle similarité biologique, on va évaluer la distribution des scores d’alignement pour des paires de séquences aléatoires."
      ],
      "metadata": {
        "id": "Q5jVeLfgMMtA"
      }
    },
    {
      "cell_type": "markdown",
      "source": [
        "Q1. En considérant deux séquences aléatoires de même taille N, où chaque nucléotide apparaît avec une probabilité uniforme de ¼, calculer le score moyen attendu pour une superposition sans trou dans le cas où une identité vaut +1 et une différence vaut 0."
      ],
      "metadata": {
        "id": "6xyXw0HsMQGf"
      }
    },
    {
      "cell_type": "markdown",
      "source": [
        "```markdown\n",
        "1/4\n",
        "```"
      ],
      "metadata": {
        "id": "meF18gt-Mhcn"
      }
    },
    {
      "cell_type": "markdown",
      "source": [
        "Q2. La question précédente peut se resoudre analytiquement car on ne considère pas de trou. Pour étendre le résultat precedent à un alignement avec trous, on va se baser sur la simulation de séquences aleatoires.\n",
        "\n",
        "Générez $R$ paires de séquences aléatoires  de tailles $N$ avec des probabilitées uniformes d'apparition de nucléotides $p_A = p_T = p_G = p_C = $ ¼. Affichez sous forme de violinplots les distribution des scores d'alignements entre chaque paire, obtenu par :\n",
        "  1. un alignement sans trou (cf. Q1) ;\n",
        "  2. un alignement local via Smith-Waterman (utilisez le code de l'exercice précédent)\n",
        "\n",
        "Utilisez le schéma d'évaluation suivant :"
      ],
      "metadata": {
        "id": "fP5_mHnYMkNI"
      }
    },
    {
      "cell_type": "code",
      "source": [
        "rmap = {\"A\": 0, \"T\": 1, \"G\": 2, \"C\": 3}\n",
        "sigma = np.array([[1, -0.5, -0.5, -0.5],\n",
        "                  [-0.5, 1, -0.5, -0.5],\n",
        "                  [-0.5, -0.5, 1, -0.5],\n",
        "                  [-0.5, -0.5, -0.5, 1]])\n",
        "go =0\n",
        "ge = 0.5"
      ],
      "metadata": {
        "id": "akUVqotnOLkH"
      },
      "execution_count": null,
      "outputs": []
    },
    {
      "cell_type": "code",
      "source": [],
      "metadata": {
        "id": "UX0afNaqOVZ2"
      },
      "execution_count": 8,
      "outputs": []
    },
    {
      "cell_type": "markdown",
      "source": [
        "Q3. Qu'observez-vous ?"
      ],
      "metadata": {
        "id": "UNn9fUuXO4Le"
      }
    },
    {
      "cell_type": "markdown",
      "source": [
        "```markdown\n",
        "Votre réponse ici\n",
        "```"
      ],
      "metadata": {
        "id": "dSQEl0XXO8IG"
      }
    },
    {
      "cell_type": "markdown",
      "source": [
        "Q4. Quelle conclusion peut-on en tirer sur la significativité d'un alignement ?"
      ],
      "metadata": {
        "id": "xHfVXpQhf15n"
      }
    },
    {
      "cell_type": "markdown",
      "source": [
        "```markdown\n",
        "Votre réponse ici\n",
        "```"
      ],
      "metadata": {
        "id": "5KjhEeHDgDns"
      }
    }
  ]
}